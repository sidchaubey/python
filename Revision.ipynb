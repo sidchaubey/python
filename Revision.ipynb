{
  "nbformat": 4,
  "nbformat_minor": 0,
  "metadata": {
    "colab": {
      "name": "Revision.ipynb",
      "provenance": [],
      "collapsed_sections": [],
      "authorship_tag": "ABX9TyNL4p1LPUCJndWl8pHwoIh0",
      "include_colab_link": true
    },
    "kernelspec": {
      "name": "python3",
      "display_name": "Python 3"
    }
  },
  "cells": [
    {
      "cell_type": "markdown",
      "metadata": {
        "id": "view-in-github",
        "colab_type": "text"
      },
      "source": [
        "<a href=\"https://colab.research.google.com/github/sidchaubey/python/blob/master/Revision.ipynb\" target=\"_parent\"><img src=\"https://colab.research.google.com/assets/colab-badge.svg\" alt=\"Open In Colab\"/></a>"
      ]
    },
    {
      "cell_type": "code",
      "metadata": {
        "colab": {
          "base_uri": "https://localhost:8080/"
        },
        "id": "G8PpG7sBujbu",
        "outputId": "7ff02436-cea9-4909-cefa-4ad8c8e72361"
      },
      "source": [
        "import keyword\r\n",
        "print(keyword.kwlist)\r\n",
        "print(len(keyword.kwlist))"
      ],
      "execution_count": 7,
      "outputs": [
        {
          "output_type": "stream",
          "text": [
            "['False', 'None', 'True', 'and', 'as', 'assert', 'async', 'await', 'break', 'class', 'continue', 'def', 'del', 'elif', 'else', 'except', 'finally', 'for', 'from', 'global', 'if', 'import', 'in', 'is', 'lambda', 'nonlocal', 'not', 'or', 'pass', 'raise', 'return', 'try', 'while', 'with', 'yield']\n",
            "35\n"
          ],
          "name": "stdout"
        }
      ]
    },
    {
      "cell_type": "code",
      "metadata": {
        "colab": {
          "base_uri": "https://localhost:8080/"
        },
        "id": "SEHl-h5ApiAk",
        "outputId": "995d10f6-7f5d-4a3b-eed3-e56ea0d6f9ec"
      },
      "source": [
        "# Identifiers: name to given to entities like variable, function, class etc.\r\n",
        "a = 10\r\n",
        "b = 10.4\r\n",
        "c = 10+2j\r\n",
        "i = \"This is my yard\"\r\n",
        "d = [1, 2.2, \"Male\", 2+3j]\r\n",
        "e = (1, 2.2, \"Male\", 2+3j)\r\n",
        "f = {1, 1, 1, 2.2, \"Male\", 2+3j}\r\n",
        "h = True\r\n",
        "j = {1: 1, 2: 4}\r\n",
        "\r\n",
        "print(a, type(a))\r\n",
        "print(b, type(b))\r\n",
        "print(c, type(c))\r\n",
        "print(d, type(d))\r\n",
        "print(e, type(e))\r\n",
        "print(f, type(f))\r\n",
        "print(h, type(h))\r\n",
        "print(i, type(i))\r\n",
        "print(j, type(j))\r\n"
      ],
      "execution_count": 11,
      "outputs": [
        {
          "output_type": "stream",
          "text": [
            "10 <class 'int'>\n",
            "10.4 <class 'float'>\n",
            "(10+2j) <class 'complex'>\n",
            "[1, 2.2, 'Male', (2+3j)] <class 'list'>\n",
            "(1, 2.2, 'Male', (2+3j)) <class 'tuple'>\n",
            "{1, 2.2, (2+3j), 'Male'} <class 'set'>\n",
            "True <class 'bool'>\n",
            "This is my yard <class 'str'>\n",
            "{1: 1, 2: 4} <class 'dict'>\n"
          ],
          "name": "stdout"
        }
      ]
    },
    {
      "cell_type": "code",
      "metadata": {
        "colab": {
          "base_uri": "https://localhost:8080/"
        },
        "id": "fEVswmz1rfmq",
        "outputId": "04857f34-9dbf-4fa0-e93b-3f2c7d3e83fb"
      },
      "source": [
        "d = \"Let's go out\"\r\n",
        "print(d, type(d))"
      ],
      "execution_count": 12,
      "outputs": [
        {
          "output_type": "stream",
          "text": [
            "Let's go out <class 'str'>\n"
          ],
          "name": "stdout"
        }
      ]
    },
    {
      "cell_type": "markdown",
      "metadata": {
        "id": "BXeO_sFkuMaK"
      },
      "source": [
        "# Operators:\r\n",
        "1. Assignment (+=, -=, /=, //=, *=, %=, **)\r\n",
        "2. Comparision(<=, >=, ==, <, >, !=)\r\n",
        "3. Logical(and, or, not)\r\n",
        "4. Bitwise(<<, >>)\r\n",
        "5.Arithematic(+, -, /, //, *, %, **)\r\n",
        "6. special \r\n",
        "  * Identity Operator(is)\r\n",
        "  * Membership Operator(in)"
      ]
    },
    {
      "cell_type": "code",
      "metadata": {
        "id": "6ailbsCBrpTw"
      },
      "source": [
        "# Flow Control statements: \r\n",
        "# if \r\n",
        "# if else\r\n",
        "# if elif else\r\n",
        "# if if else else\r\n"
      ],
      "execution_count": 13,
      "outputs": []
    },
    {
      "cell_type": "code",
      "metadata": {
        "id": "NmBn6QXauFFr"
      },
      "source": [
        "# Looping \r\n",
        "# while loop \r\n",
        "# for loop"
      ],
      "execution_count": 15,
      "outputs": []
    },
    {
      "cell_type": "code",
      "metadata": {
        "id": "7lZBvrRgw5lp"
      },
      "source": [
        "# List"
      ],
      "execution_count": 16,
      "outputs": []
    },
    {
      "cell_type": "code",
      "metadata": {
        "colab": {
          "base_uri": "https://localhost:8080/"
        },
        "id": "ZCk2CqvjxCFt",
        "outputId": "225116cb-1fac-4ed5-fc90-47f1134445e9"
      },
      "source": [
        "l = [\"Apple\"]\r\n",
        "print(l)\r\n",
        "print(type(l))\r\n",
        "print(isinstance(l, list))"
      ],
      "execution_count": 18,
      "outputs": [
        {
          "output_type": "stream",
          "text": [
            "['Apple']\n",
            "<class 'list'>\n",
            "True\n"
          ],
          "name": "stdout"
        }
      ]
    },
    {
      "cell_type": "code",
      "metadata": {
        "colab": {
          "base_uri": "https://localhost:8080/"
        },
        "id": "16-xp0FqxIBP",
        "outputId": "d1bb4783-ebb3-49bb-c7e1-b2bf9a3242eb"
      },
      "source": [
        "# list methods\r\n",
        "l.append(\"Mango\")\r\n",
        "print(l)\r\n",
        "l.append([\"Grapes\", \"Kiwi\"])\r\n",
        "print(l)\r\n",
        "l.insert(1, \"Lion\")\r\n",
        "print(l)\r\n",
        "l.extend(\"TVF\")\r\n",
        "print(l)\r\n",
        "l.extend([\"PewDiePie\", \"ut\"])\r\n",
        "print(l)"
      ],
      "execution_count": 19,
      "outputs": [
        {
          "output_type": "stream",
          "text": [
            "['Apple', 'Mango']\n",
            "['Apple', 'Mango', ['Grapes', 'Kiwi']]\n",
            "['Apple', 'Lion', 'Mango', ['Grapes', 'Kiwi']]\n",
            "['Apple', 'Lion', 'Mango', ['Grapes', 'Kiwi'], 'T', 'V', 'F']\n",
            "['Apple', 'Lion', 'Mango', ['Grapes', 'Kiwi'], 'T', 'V', 'F', 'PewDiePie', 'ut']\n"
          ],
          "name": "stdout"
        }
      ]
    },
    {
      "cell_type": "code",
      "metadata": {
        "colab": {
          "base_uri": "https://localhost:8080/"
        },
        "id": "8Wmbp0XWxwa-",
        "outputId": "91c5a224-d8cd-41a8-daa4-89af37e3961f"
      },
      "source": [
        "print(\"The present list is: \", l)\r\n",
        "\r\n",
        "l.remove(\"Mango\")\r\n",
        "print(l)\r\n",
        "del l[1]\r\n",
        "print(l)\r\n",
        "l.pop()\r\n",
        "print(l)"
      ],
      "execution_count": 20,
      "outputs": [
        {
          "output_type": "stream",
          "text": [
            "The present list is:  ['Apple', 'Lion', 'Mango', ['Grapes', 'Kiwi'], 'T', 'V', 'F', 'PewDiePie', 'ut']\n",
            "['Apple', 'Lion', ['Grapes', 'Kiwi'], 'T', 'V', 'F', 'PewDiePie', 'ut']\n",
            "['Apple', ['Grapes', 'Kiwi'], 'T', 'V', 'F', 'PewDiePie', 'ut']\n",
            "['Apple', ['Grapes', 'Kiwi'], 'T', 'V', 'F', 'PewDiePie']\n"
          ],
          "name": "stdout"
        }
      ]
    },
    {
      "cell_type": "code",
      "metadata": {
        "colab": {
          "base_uri": "https://localhost:8080/"
        },
        "id": "yOuGHkXPyOs3",
        "outputId": "123ea25b-3dca-494e-a11d-9eb90dd8b15d"
      },
      "source": [
        "import random\r\n",
        "lst = [99, 525, 21, 6, 1]\r\n",
        "print(lst)\r\n",
        "l = sorted(lst)\r\n",
        "print(lst)\r\n",
        "print(l)\r\n",
        "lst.sort()\r\n",
        "print(lst)"
      ],
      "execution_count": 35,
      "outputs": [
        {
          "output_type": "stream",
          "text": [
            "[99, 525, 21, 6, 1]\n",
            "[99, 525, 21, 6, 1]\n",
            "[1, 6, 21, 99, 525]\n",
            "[1, 6, 21, 99, 525]\n"
          ],
          "name": "stdout"
        }
      ]
    },
    {
      "cell_type": "code",
      "metadata": {
        "colab": {
          "base_uri": "https://localhost:8080/"
        },
        "id": "uDeQtYPR3K0e",
        "outputId": "3876acdd-002f-4c4e-a3d3-09d9dbc2f188"
      },
      "source": [
        "# list looping\r\n",
        "\r\n",
        "i = 0\r\n",
        "while i<len(lst):\r\n",
        "  print(lst[i])\r\n",
        "  i+=1"
      ],
      "execution_count": 36,
      "outputs": [
        {
          "output_type": "stream",
          "text": [
            "1\n",
            "6\n",
            "21\n",
            "99\n",
            "525\n"
          ],
          "name": "stdout"
        }
      ]
    },
    {
      "cell_type": "code",
      "metadata": {
        "colab": {
          "base_uri": "https://localhost:8080/"
        },
        "id": "gWWdgLUX6C1E",
        "outputId": "e5fa4b1c-8257-4cad-ef17-6acac3274913"
      },
      "source": [
        "for i in lst:\r\n",
        "  print(i)"
      ],
      "execution_count": 37,
      "outputs": [
        {
          "output_type": "stream",
          "text": [
            "1\n",
            "6\n",
            "21\n",
            "99\n",
            "525\n"
          ],
          "name": "stdout"
        }
      ]
    },
    {
      "cell_type": "code",
      "metadata": {
        "colab": {
          "base_uri": "https://localhost:8080/"
        },
        "id": "O1FyfAYf6IUW",
        "outputId": "6912acdc-6525-46e9-a72f-cb2989029a6a"
      },
      "source": [
        "# list Comp\r\n",
        "\r\n",
        "squ = [i**2 for i in lst]\r\n",
        "print(squ)\r\n",
        "\r\n",
        "even_square = [i**2 for i in lst if i%2==0] \r\n",
        "print(even_square)\r\n",
        "even_square_odd_cube = [i**2 if i%2==0 else i**3 for i in lst]\r\n",
        "print(even_square_odd_cube)"
      ],
      "execution_count": 40,
      "outputs": [
        {
          "output_type": "stream",
          "text": [
            "[1, 36, 441, 9801, 275625]\n",
            "[36]\n",
            "[1, 36, 9261, 970299, 144703125]\n"
          ],
          "name": "stdout"
        }
      ]
    },
    {
      "cell_type": "code",
      "metadata": {
        "colab": {
          "base_uri": "https://localhost:8080/"
        },
        "id": "cMe33Xa86SPh",
        "outputId": "c5d97972-0449-41ca-e4fe-52a06b11993b"
      },
      "source": [
        "# Tuple\r\n",
        "\r\n",
        "l = (1)\r\n",
        "print(type(l))\r\n",
        "# Note In case of tuple with one element just using () does not creates tuple we'll have to use (element,)\r\n",
        "l = (1,)\r\n",
        "print(type(l))\r\n",
        "\r\n"
      ],
      "execution_count": 41,
      "outputs": [
        {
          "output_type": "stream",
          "text": [
            "<class 'int'>\n",
            "<class 'tuple'>\n"
          ],
          "name": "stdout"
        }
      ]
    },
    {
      "cell_type": "code",
      "metadata": {
        "colab": {
          "base_uri": "https://localhost:8080/"
        },
        "id": "61EYwQbbDPuy",
        "outputId": "2c85da98-4041-4568-f666-ed467815a102"
      },
      "source": [
        "# sets\r\n",
        "a = {12}\r\n",
        "print(type(a))\r\n",
        "a.add(17)\r\n",
        "print(a)\r\n",
        "a.update({18, 20})\r\n",
        "print(a)\r\n",
        "a.clear()\r\n",
        "print(a)\r\n",
        "a.update([10, 20, 30])\r\n",
        "print(a)\r\n",
        "a.pop()\r\n",
        "print(a)\r\n",
        "print(20 in a)\r\n",
        "a.discard(20)\r\n",
        "print(a)\r\n"
      ],
      "execution_count": 55,
      "outputs": [
        {
          "output_type": "stream",
          "text": [
            "<class 'set'>\n",
            "{17, 12}\n",
            "{17, 18, 12, 20}\n",
            "set()\n",
            "{10, 20, 30}\n",
            "{20, 30}\n",
            "True\n",
            "{30}\n"
          ],
          "name": "stdout"
        }
      ]
    },
    {
      "cell_type": "code",
      "metadata": {
        "colab": {
          "base_uri": "https://localhost:8080/"
        },
        "id": "AAa16qZODVgM",
        "outputId": "970bae64-f839-402c-e580-f8a989477f11"
      },
      "source": [
        "# dictationary\r\n",
        "\r\n",
        "di = {1: 1, 2:2, 3:3}\r\n",
        "\r\n",
        "print(type(di))"
      ],
      "execution_count": 58,
      "outputs": [
        {
          "output_type": "stream",
          "text": [
            "<class 'dict'>\n"
          ],
          "name": "stdout"
        }
      ]
    },
    {
      "cell_type": "code",
      "metadata": {
        "colab": {
          "base_uri": "https://localhost:8080/"
        },
        "id": "iNeLicfhEc8Z",
        "outputId": "5b30c26a-d0ff-482c-eeb9-f029af685591"
      },
      "source": [
        "d = {}\r\n",
        "for i in range(1, 199):\r\n",
        "  d[i] = i**2\r\n",
        "\r\n",
        "print(d)"
      ],
      "execution_count": 59,
      "outputs": [
        {
          "output_type": "stream",
          "text": [
            "{1: 1, 2: 4, 3: 9, 4: 16, 5: 25, 6: 36, 7: 49, 8: 64, 9: 81, 10: 100, 11: 121, 12: 144, 13: 169, 14: 196, 15: 225, 16: 256, 17: 289, 18: 324, 19: 361, 20: 400, 21: 441, 22: 484, 23: 529, 24: 576, 25: 625, 26: 676, 27: 729, 28: 784, 29: 841, 30: 900, 31: 961, 32: 1024, 33: 1089, 34: 1156, 35: 1225, 36: 1296, 37: 1369, 38: 1444, 39: 1521, 40: 1600, 41: 1681, 42: 1764, 43: 1849, 44: 1936, 45: 2025, 46: 2116, 47: 2209, 48: 2304, 49: 2401, 50: 2500, 51: 2601, 52: 2704, 53: 2809, 54: 2916, 55: 3025, 56: 3136, 57: 3249, 58: 3364, 59: 3481, 60: 3600, 61: 3721, 62: 3844, 63: 3969, 64: 4096, 65: 4225, 66: 4356, 67: 4489, 68: 4624, 69: 4761, 70: 4900, 71: 5041, 72: 5184, 73: 5329, 74: 5476, 75: 5625, 76: 5776, 77: 5929, 78: 6084, 79: 6241, 80: 6400, 81: 6561, 82: 6724, 83: 6889, 84: 7056, 85: 7225, 86: 7396, 87: 7569, 88: 7744, 89: 7921, 90: 8100, 91: 8281, 92: 8464, 93: 8649, 94: 8836, 95: 9025, 96: 9216, 97: 9409, 98: 9604, 99: 9801, 100: 10000, 101: 10201, 102: 10404, 103: 10609, 104: 10816, 105: 11025, 106: 11236, 107: 11449, 108: 11664, 109: 11881, 110: 12100, 111: 12321, 112: 12544, 113: 12769, 114: 12996, 115: 13225, 116: 13456, 117: 13689, 118: 13924, 119: 14161, 120: 14400, 121: 14641, 122: 14884, 123: 15129, 124: 15376, 125: 15625, 126: 15876, 127: 16129, 128: 16384, 129: 16641, 130: 16900, 131: 17161, 132: 17424, 133: 17689, 134: 17956, 135: 18225, 136: 18496, 137: 18769, 138: 19044, 139: 19321, 140: 19600, 141: 19881, 142: 20164, 143: 20449, 144: 20736, 145: 21025, 146: 21316, 147: 21609, 148: 21904, 149: 22201, 150: 22500, 151: 22801, 152: 23104, 153: 23409, 154: 23716, 155: 24025, 156: 24336, 157: 24649, 158: 24964, 159: 25281, 160: 25600, 161: 25921, 162: 26244, 163: 26569, 164: 26896, 165: 27225, 166: 27556, 167: 27889, 168: 28224, 169: 28561, 170: 28900, 171: 29241, 172: 29584, 173: 29929, 174: 30276, 175: 30625, 176: 30976, 177: 31329, 178: 31684, 179: 32041, 180: 32400, 181: 32761, 182: 33124, 183: 33489, 184: 33856, 185: 34225, 186: 34596, 187: 34969, 188: 35344, 189: 35721, 190: 36100, 191: 36481, 192: 36864, 193: 37249, 194: 37636, 195: 38025, 196: 38416, 197: 38809, 198: 39204}\n"
          ],
          "name": "stdout"
        }
      ]
    },
    {
      "cell_type": "code",
      "metadata": {
        "colab": {
          "base_uri": "https://localhost:8080/"
        },
        "id": "StOGtXCEEvjv",
        "outputId": "a7572020-e57c-4d1c-e3c7-afbeb20bdbee"
      },
      "source": [
        "{i: i**19 for i in d if i%10==0}"
      ],
      "execution_count": 60,
      "outputs": [
        {
          "output_type": "execute_result",
          "data": {
            "text/plain": [
              "{10: 10000000000000000000,\n",
              " 20: 5242880000000000000000000,\n",
              " 30: 11622614670000000000000000000,\n",
              " 40: 2748779069440000000000000000000,\n",
              " 50: 190734863281250000000000000000000,\n",
              " 60: 6093597400104960000000000000000000,\n",
              " 70: 113988951853731430000000000000000000,\n",
              " 80: 1441151880758558720000000000000000000,\n",
              " 90: 13508517176729920890000000000000000000,\n",
              " 100: 100000000000000000000000000000000000000,\n",
              " 110: 611590904484145462910000000000000000000,\n",
              " 120: 3194799993706229268480000000000000000000,\n",
              " 130: 14619202903754461106770000000000000000000,\n",
              " 140: 59763039589489143971840000000000000000000,\n",
              " 150: 221683782005310058593750000000000000000000,\n",
              " 160: 755578637259143234191360000000000000000000,\n",
              " 170: 2390724356851513248471530000000000000000000,\n",
              " 180: 7082353453553376763576320000000000000000000,\n",
              " 190: 19784196556603135891239790000000000000000000}"
            ]
          },
          "metadata": {
            "tags": []
          },
          "execution_count": 60
        }
      ]
    },
    {
      "cell_type": "code",
      "metadata": {
        "colab": {
          "base_uri": "https://localhost:8080/"
        },
        "id": "SHfF3p-bE-0k",
        "outputId": "98082aff-5c8f-42af-a79c-f52ed623bd7a"
      },
      "source": [
        "d[199] = i**2\r\n",
        "print(len(d))"
      ],
      "execution_count": 62,
      "outputs": [
        {
          "output_type": "stream",
          "text": [
            "199\n"
          ],
          "name": "stdout"
        }
      ]
    },
    {
      "cell_type": "code",
      "metadata": {
        "colab": {
          "base_uri": "https://localhost:8080/"
        },
        "id": "x08yyyTMFKK7",
        "outputId": "0d787431-7dfb-4171-88cd-1520b07611cc"
      },
      "source": [
        "for index, value in d.items():\r\n",
        "  print(f\"Index is : {index}\\nValue is: {value}\\n\\n\")"
      ],
      "execution_count": 63,
      "outputs": [
        {
          "output_type": "stream",
          "text": [
            "Index is : 1\n",
            "Value is: 1\n",
            "\n",
            "\n",
            "Index is : 2\n",
            "Value is: 4\n",
            "\n",
            "\n",
            "Index is : 3\n",
            "Value is: 9\n",
            "\n",
            "\n",
            "Index is : 4\n",
            "Value is: 16\n",
            "\n",
            "\n",
            "Index is : 5\n",
            "Value is: 25\n",
            "\n",
            "\n",
            "Index is : 6\n",
            "Value is: 36\n",
            "\n",
            "\n",
            "Index is : 7\n",
            "Value is: 49\n",
            "\n",
            "\n",
            "Index is : 8\n",
            "Value is: 64\n",
            "\n",
            "\n",
            "Index is : 9\n",
            "Value is: 81\n",
            "\n",
            "\n",
            "Index is : 10\n",
            "Value is: 100\n",
            "\n",
            "\n",
            "Index is : 11\n",
            "Value is: 121\n",
            "\n",
            "\n",
            "Index is : 12\n",
            "Value is: 144\n",
            "\n",
            "\n",
            "Index is : 13\n",
            "Value is: 169\n",
            "\n",
            "\n",
            "Index is : 14\n",
            "Value is: 196\n",
            "\n",
            "\n",
            "Index is : 15\n",
            "Value is: 225\n",
            "\n",
            "\n",
            "Index is : 16\n",
            "Value is: 256\n",
            "\n",
            "\n",
            "Index is : 17\n",
            "Value is: 289\n",
            "\n",
            "\n",
            "Index is : 18\n",
            "Value is: 324\n",
            "\n",
            "\n",
            "Index is : 19\n",
            "Value is: 361\n",
            "\n",
            "\n",
            "Index is : 20\n",
            "Value is: 400\n",
            "\n",
            "\n",
            "Index is : 21\n",
            "Value is: 441\n",
            "\n",
            "\n",
            "Index is : 22\n",
            "Value is: 484\n",
            "\n",
            "\n",
            "Index is : 23\n",
            "Value is: 529\n",
            "\n",
            "\n",
            "Index is : 24\n",
            "Value is: 576\n",
            "\n",
            "\n",
            "Index is : 25\n",
            "Value is: 625\n",
            "\n",
            "\n",
            "Index is : 26\n",
            "Value is: 676\n",
            "\n",
            "\n",
            "Index is : 27\n",
            "Value is: 729\n",
            "\n",
            "\n",
            "Index is : 28\n",
            "Value is: 784\n",
            "\n",
            "\n",
            "Index is : 29\n",
            "Value is: 841\n",
            "\n",
            "\n",
            "Index is : 30\n",
            "Value is: 900\n",
            "\n",
            "\n",
            "Index is : 31\n",
            "Value is: 961\n",
            "\n",
            "\n",
            "Index is : 32\n",
            "Value is: 1024\n",
            "\n",
            "\n",
            "Index is : 33\n",
            "Value is: 1089\n",
            "\n",
            "\n",
            "Index is : 34\n",
            "Value is: 1156\n",
            "\n",
            "\n",
            "Index is : 35\n",
            "Value is: 1225\n",
            "\n",
            "\n",
            "Index is : 36\n",
            "Value is: 1296\n",
            "\n",
            "\n",
            "Index is : 37\n",
            "Value is: 1369\n",
            "\n",
            "\n",
            "Index is : 38\n",
            "Value is: 1444\n",
            "\n",
            "\n",
            "Index is : 39\n",
            "Value is: 1521\n",
            "\n",
            "\n",
            "Index is : 40\n",
            "Value is: 1600\n",
            "\n",
            "\n",
            "Index is : 41\n",
            "Value is: 1681\n",
            "\n",
            "\n",
            "Index is : 42\n",
            "Value is: 1764\n",
            "\n",
            "\n",
            "Index is : 43\n",
            "Value is: 1849\n",
            "\n",
            "\n",
            "Index is : 44\n",
            "Value is: 1936\n",
            "\n",
            "\n",
            "Index is : 45\n",
            "Value is: 2025\n",
            "\n",
            "\n",
            "Index is : 46\n",
            "Value is: 2116\n",
            "\n",
            "\n",
            "Index is : 47\n",
            "Value is: 2209\n",
            "\n",
            "\n",
            "Index is : 48\n",
            "Value is: 2304\n",
            "\n",
            "\n",
            "Index is : 49\n",
            "Value is: 2401\n",
            "\n",
            "\n",
            "Index is : 50\n",
            "Value is: 2500\n",
            "\n",
            "\n",
            "Index is : 51\n",
            "Value is: 2601\n",
            "\n",
            "\n",
            "Index is : 52\n",
            "Value is: 2704\n",
            "\n",
            "\n",
            "Index is : 53\n",
            "Value is: 2809\n",
            "\n",
            "\n",
            "Index is : 54\n",
            "Value is: 2916\n",
            "\n",
            "\n",
            "Index is : 55\n",
            "Value is: 3025\n",
            "\n",
            "\n",
            "Index is : 56\n",
            "Value is: 3136\n",
            "\n",
            "\n",
            "Index is : 57\n",
            "Value is: 3249\n",
            "\n",
            "\n",
            "Index is : 58\n",
            "Value is: 3364\n",
            "\n",
            "\n",
            "Index is : 59\n",
            "Value is: 3481\n",
            "\n",
            "\n",
            "Index is : 60\n",
            "Value is: 3600\n",
            "\n",
            "\n",
            "Index is : 61\n",
            "Value is: 3721\n",
            "\n",
            "\n",
            "Index is : 62\n",
            "Value is: 3844\n",
            "\n",
            "\n",
            "Index is : 63\n",
            "Value is: 3969\n",
            "\n",
            "\n",
            "Index is : 64\n",
            "Value is: 4096\n",
            "\n",
            "\n",
            "Index is : 65\n",
            "Value is: 4225\n",
            "\n",
            "\n",
            "Index is : 66\n",
            "Value is: 4356\n",
            "\n",
            "\n",
            "Index is : 67\n",
            "Value is: 4489\n",
            "\n",
            "\n",
            "Index is : 68\n",
            "Value is: 4624\n",
            "\n",
            "\n",
            "Index is : 69\n",
            "Value is: 4761\n",
            "\n",
            "\n",
            "Index is : 70\n",
            "Value is: 4900\n",
            "\n",
            "\n",
            "Index is : 71\n",
            "Value is: 5041\n",
            "\n",
            "\n",
            "Index is : 72\n",
            "Value is: 5184\n",
            "\n",
            "\n",
            "Index is : 73\n",
            "Value is: 5329\n",
            "\n",
            "\n",
            "Index is : 74\n",
            "Value is: 5476\n",
            "\n",
            "\n",
            "Index is : 75\n",
            "Value is: 5625\n",
            "\n",
            "\n",
            "Index is : 76\n",
            "Value is: 5776\n",
            "\n",
            "\n",
            "Index is : 77\n",
            "Value is: 5929\n",
            "\n",
            "\n",
            "Index is : 78\n",
            "Value is: 6084\n",
            "\n",
            "\n",
            "Index is : 79\n",
            "Value is: 6241\n",
            "\n",
            "\n",
            "Index is : 80\n",
            "Value is: 6400\n",
            "\n",
            "\n",
            "Index is : 81\n",
            "Value is: 6561\n",
            "\n",
            "\n",
            "Index is : 82\n",
            "Value is: 6724\n",
            "\n",
            "\n",
            "Index is : 83\n",
            "Value is: 6889\n",
            "\n",
            "\n",
            "Index is : 84\n",
            "Value is: 7056\n",
            "\n",
            "\n",
            "Index is : 85\n",
            "Value is: 7225\n",
            "\n",
            "\n",
            "Index is : 86\n",
            "Value is: 7396\n",
            "\n",
            "\n",
            "Index is : 87\n",
            "Value is: 7569\n",
            "\n",
            "\n",
            "Index is : 88\n",
            "Value is: 7744\n",
            "\n",
            "\n",
            "Index is : 89\n",
            "Value is: 7921\n",
            "\n",
            "\n",
            "Index is : 90\n",
            "Value is: 8100\n",
            "\n",
            "\n",
            "Index is : 91\n",
            "Value is: 8281\n",
            "\n",
            "\n",
            "Index is : 92\n",
            "Value is: 8464\n",
            "\n",
            "\n",
            "Index is : 93\n",
            "Value is: 8649\n",
            "\n",
            "\n",
            "Index is : 94\n",
            "Value is: 8836\n",
            "\n",
            "\n",
            "Index is : 95\n",
            "Value is: 9025\n",
            "\n",
            "\n",
            "Index is : 96\n",
            "Value is: 9216\n",
            "\n",
            "\n",
            "Index is : 97\n",
            "Value is: 9409\n",
            "\n",
            "\n",
            "Index is : 98\n",
            "Value is: 9604\n",
            "\n",
            "\n",
            "Index is : 99\n",
            "Value is: 9801\n",
            "\n",
            "\n",
            "Index is : 100\n",
            "Value is: 10000\n",
            "\n",
            "\n",
            "Index is : 101\n",
            "Value is: 10201\n",
            "\n",
            "\n",
            "Index is : 102\n",
            "Value is: 10404\n",
            "\n",
            "\n",
            "Index is : 103\n",
            "Value is: 10609\n",
            "\n",
            "\n",
            "Index is : 104\n",
            "Value is: 10816\n",
            "\n",
            "\n",
            "Index is : 105\n",
            "Value is: 11025\n",
            "\n",
            "\n",
            "Index is : 106\n",
            "Value is: 11236\n",
            "\n",
            "\n",
            "Index is : 107\n",
            "Value is: 11449\n",
            "\n",
            "\n",
            "Index is : 108\n",
            "Value is: 11664\n",
            "\n",
            "\n",
            "Index is : 109\n",
            "Value is: 11881\n",
            "\n",
            "\n",
            "Index is : 110\n",
            "Value is: 12100\n",
            "\n",
            "\n",
            "Index is : 111\n",
            "Value is: 12321\n",
            "\n",
            "\n",
            "Index is : 112\n",
            "Value is: 12544\n",
            "\n",
            "\n",
            "Index is : 113\n",
            "Value is: 12769\n",
            "\n",
            "\n",
            "Index is : 114\n",
            "Value is: 12996\n",
            "\n",
            "\n",
            "Index is : 115\n",
            "Value is: 13225\n",
            "\n",
            "\n",
            "Index is : 116\n",
            "Value is: 13456\n",
            "\n",
            "\n",
            "Index is : 117\n",
            "Value is: 13689\n",
            "\n",
            "\n",
            "Index is : 118\n",
            "Value is: 13924\n",
            "\n",
            "\n",
            "Index is : 119\n",
            "Value is: 14161\n",
            "\n",
            "\n",
            "Index is : 120\n",
            "Value is: 14400\n",
            "\n",
            "\n",
            "Index is : 121\n",
            "Value is: 14641\n",
            "\n",
            "\n",
            "Index is : 122\n",
            "Value is: 14884\n",
            "\n",
            "\n",
            "Index is : 123\n",
            "Value is: 15129\n",
            "\n",
            "\n",
            "Index is : 124\n",
            "Value is: 15376\n",
            "\n",
            "\n",
            "Index is : 125\n",
            "Value is: 15625\n",
            "\n",
            "\n",
            "Index is : 126\n",
            "Value is: 15876\n",
            "\n",
            "\n",
            "Index is : 127\n",
            "Value is: 16129\n",
            "\n",
            "\n",
            "Index is : 128\n",
            "Value is: 16384\n",
            "\n",
            "\n",
            "Index is : 129\n",
            "Value is: 16641\n",
            "\n",
            "\n",
            "Index is : 130\n",
            "Value is: 16900\n",
            "\n",
            "\n",
            "Index is : 131\n",
            "Value is: 17161\n",
            "\n",
            "\n",
            "Index is : 132\n",
            "Value is: 17424\n",
            "\n",
            "\n",
            "Index is : 133\n",
            "Value is: 17689\n",
            "\n",
            "\n",
            "Index is : 134\n",
            "Value is: 17956\n",
            "\n",
            "\n",
            "Index is : 135\n",
            "Value is: 18225\n",
            "\n",
            "\n",
            "Index is : 136\n",
            "Value is: 18496\n",
            "\n",
            "\n",
            "Index is : 137\n",
            "Value is: 18769\n",
            "\n",
            "\n",
            "Index is : 138\n",
            "Value is: 19044\n",
            "\n",
            "\n",
            "Index is : 139\n",
            "Value is: 19321\n",
            "\n",
            "\n",
            "Index is : 140\n",
            "Value is: 19600\n",
            "\n",
            "\n",
            "Index is : 141\n",
            "Value is: 19881\n",
            "\n",
            "\n",
            "Index is : 142\n",
            "Value is: 20164\n",
            "\n",
            "\n",
            "Index is : 143\n",
            "Value is: 20449\n",
            "\n",
            "\n",
            "Index is : 144\n",
            "Value is: 20736\n",
            "\n",
            "\n",
            "Index is : 145\n",
            "Value is: 21025\n",
            "\n",
            "\n",
            "Index is : 146\n",
            "Value is: 21316\n",
            "\n",
            "\n",
            "Index is : 147\n",
            "Value is: 21609\n",
            "\n",
            "\n",
            "Index is : 148\n",
            "Value is: 21904\n",
            "\n",
            "\n",
            "Index is : 149\n",
            "Value is: 22201\n",
            "\n",
            "\n",
            "Index is : 150\n",
            "Value is: 22500\n",
            "\n",
            "\n",
            "Index is : 151\n",
            "Value is: 22801\n",
            "\n",
            "\n",
            "Index is : 152\n",
            "Value is: 23104\n",
            "\n",
            "\n",
            "Index is : 153\n",
            "Value is: 23409\n",
            "\n",
            "\n",
            "Index is : 154\n",
            "Value is: 23716\n",
            "\n",
            "\n",
            "Index is : 155\n",
            "Value is: 24025\n",
            "\n",
            "\n",
            "Index is : 156\n",
            "Value is: 24336\n",
            "\n",
            "\n",
            "Index is : 157\n",
            "Value is: 24649\n",
            "\n",
            "\n",
            "Index is : 158\n",
            "Value is: 24964\n",
            "\n",
            "\n",
            "Index is : 159\n",
            "Value is: 25281\n",
            "\n",
            "\n",
            "Index is : 160\n",
            "Value is: 25600\n",
            "\n",
            "\n",
            "Index is : 161\n",
            "Value is: 25921\n",
            "\n",
            "\n",
            "Index is : 162\n",
            "Value is: 26244\n",
            "\n",
            "\n",
            "Index is : 163\n",
            "Value is: 26569\n",
            "\n",
            "\n",
            "Index is : 164\n",
            "Value is: 26896\n",
            "\n",
            "\n",
            "Index is : 165\n",
            "Value is: 27225\n",
            "\n",
            "\n",
            "Index is : 166\n",
            "Value is: 27556\n",
            "\n",
            "\n",
            "Index is : 167\n",
            "Value is: 27889\n",
            "\n",
            "\n",
            "Index is : 168\n",
            "Value is: 28224\n",
            "\n",
            "\n",
            "Index is : 169\n",
            "Value is: 28561\n",
            "\n",
            "\n",
            "Index is : 170\n",
            "Value is: 28900\n",
            "\n",
            "\n",
            "Index is : 171\n",
            "Value is: 29241\n",
            "\n",
            "\n",
            "Index is : 172\n",
            "Value is: 29584\n",
            "\n",
            "\n",
            "Index is : 173\n",
            "Value is: 29929\n",
            "\n",
            "\n",
            "Index is : 174\n",
            "Value is: 30276\n",
            "\n",
            "\n",
            "Index is : 175\n",
            "Value is: 30625\n",
            "\n",
            "\n",
            "Index is : 176\n",
            "Value is: 30976\n",
            "\n",
            "\n",
            "Index is : 177\n",
            "Value is: 31329\n",
            "\n",
            "\n",
            "Index is : 178\n",
            "Value is: 31684\n",
            "\n",
            "\n",
            "Index is : 179\n",
            "Value is: 32041\n",
            "\n",
            "\n",
            "Index is : 180\n",
            "Value is: 32400\n",
            "\n",
            "\n",
            "Index is : 181\n",
            "Value is: 32761\n",
            "\n",
            "\n",
            "Index is : 182\n",
            "Value is: 33124\n",
            "\n",
            "\n",
            "Index is : 183\n",
            "Value is: 33489\n",
            "\n",
            "\n",
            "Index is : 184\n",
            "Value is: 33856\n",
            "\n",
            "\n",
            "Index is : 185\n",
            "Value is: 34225\n",
            "\n",
            "\n",
            "Index is : 186\n",
            "Value is: 34596\n",
            "\n",
            "\n",
            "Index is : 187\n",
            "Value is: 34969\n",
            "\n",
            "\n",
            "Index is : 188\n",
            "Value is: 35344\n",
            "\n",
            "\n",
            "Index is : 189\n",
            "Value is: 35721\n",
            "\n",
            "\n",
            "Index is : 190\n",
            "Value is: 36100\n",
            "\n",
            "\n",
            "Index is : 191\n",
            "Value is: 36481\n",
            "\n",
            "\n",
            "Index is : 192\n",
            "Value is: 36864\n",
            "\n",
            "\n",
            "Index is : 193\n",
            "Value is: 37249\n",
            "\n",
            "\n",
            "Index is : 194\n",
            "Value is: 37636\n",
            "\n",
            "\n",
            "Index is : 195\n",
            "Value is: 38025\n",
            "\n",
            "\n",
            "Index is : 196\n",
            "Value is: 38416\n",
            "\n",
            "\n",
            "Index is : 197\n",
            "Value is: 38809\n",
            "\n",
            "\n",
            "Index is : 198\n",
            "Value is: 39204\n",
            "\n",
            "\n",
            "Index is : 199\n",
            "Value is: 39204\n",
            "\n",
            "\n"
          ],
          "name": "stdout"
        }
      ]
    },
    {
      "cell_type": "code",
      "metadata": {
        "colab": {
          "base_uri": "https://localhost:8080/"
        },
        "id": "qzz7HgmiFgwy",
        "outputId": "0bc398b8-c277-46a0-802d-942d540f7ecf"
      },
      "source": [
        "# Functions\r\n",
        "\r\n",
        "def my_name():\r\n",
        "  print(\"Hello User\")\r\n",
        "\r\n",
        "my_name()\r\n",
        "# It would be great if we could add our name in place of what we're getting as user\r\n",
        "def my_name(name):\r\n",
        "  print(f\"Hello {name}\")\r\n",
        "\r\n",
        "my_name(\"Sid\")\r\n"
      ],
      "execution_count": 64,
      "outputs": [
        {
          "output_type": "stream",
          "text": [
            "Hello User\n",
            "Hello Sid\n"
          ],
          "name": "stdout"
        }
      ]
    },
    {
      "cell_type": "code",
      "metadata": {
        "colab": {
          "base_uri": "https://localhost:8080/"
        },
        "id": "u17IAt31GlAw",
        "outputId": "34629dbf-4641-4971-8e72-dd2c1922e1e8"
      },
      "source": [
        "# Function with default args\r\n",
        "\r\n",
        "def my_name(name=\"User\"):\r\n",
        "  print(f\"Hello {name}\")\r\n",
        "\r\n",
        "my_name(\"Sid\")\r\n",
        "my_name()"
      ],
      "execution_count": 65,
      "outputs": [
        {
          "output_type": "stream",
          "text": [
            "Hello Sid\n",
            "Hello User\n"
          ],
          "name": "stdout"
        }
      ]
    },
    {
      "cell_type": "code",
      "metadata": {
        "colab": {
          "base_uri": "https://localhost:8080/"
        },
        "id": "Xx9cEPcKGz5v",
        "outputId": "9b2359d8-e741-404a-faa3-821a0ff34992"
      },
      "source": [
        "# Variable arguments\r\n",
        "def my_list(*args):\r\n",
        "  print(type(args))\r\n",
        "  for i in args:\r\n",
        "    print(i)\r\n",
        "\r\n",
        "my_list(10,20,30,1,3,2)\r\n",
        "print(\"\\n\\n\\n\")\r\n",
        "\r\n",
        "\r\n",
        "# variable length of keyword args:\r\n",
        "def my_keyword(**kwargs):\r\n",
        "  print(type(kwargs))\r\n",
        "  for key, value in kwargs.items():\r\n",
        "    print(f\"Key is: {key}\\nValue is: {value}\\n\")\r\n",
        "\r\n",
        "my_keyword(name=\"Sid\", rollno=1010)"
      ],
      "execution_count": 73,
      "outputs": [
        {
          "output_type": "stream",
          "text": [
            "<class 'tuple'>\n",
            "10\n",
            "20\n",
            "30\n",
            "1\n",
            "3\n",
            "2\n",
            "\n",
            "\n",
            "\n",
            "\n",
            "<class 'dict'>\n",
            "Key is: name\n",
            "Value is: Sid\n",
            "\n",
            "Key is: rollno\n",
            "Value is: 1010\n",
            "\n"
          ],
          "name": "stdout"
        }
      ]
    },
    {
      "cell_type": "code",
      "metadata": {
        "colab": {
          "base_uri": "https://localhost:8080/"
        },
        "id": "LPcESIwAHIMn",
        "outputId": "67806f4f-0ec8-4cf3-9e1e-cc8ea1b14e1b"
      },
      "source": [
        "# Inbuild:\r\n",
        "\r\n",
        "# 1. abs\r\n",
        "print(abs(10.3))\r\n",
        "print(abs(-10.3))\r\n",
        "\r\n",
        "# 2. all()\r\n",
        "print(all([1,2,3,4]))\r\n",
        "print(all([0,1,2,3]))\r\n",
        "\r\n",
        "# 3. any()\r\n",
        "print(any([1,2,3,4]))\r\n",
        "print(any([0,1,2,3]))\r\n",
        "\r\n",
        "# 4. dir\r\n",
        "a = 10\r\n",
        "print(dir(a))\r\n",
        "\r\n",
        "# filter\r\n",
        "\r\n",
        "a = list(range(10))\r\n",
        "print(\"a: \", a)\r\n",
        "\r\n",
        "b = lambda x: (x%2==0)\r\n",
        "even_lst = list(filter(b,a))\r\n",
        "print(even_lst)\r\n",
        "\r\n",
        "even_squ = list(map(lambda x: x**2,even_lst))\r\n",
        "print(even_squ)\r\n",
        "\r\n",
        "# Reduce function to perform cumulative operation\r\n",
        "from functools import reduce\r\n",
        "total = reduce(lambda x,y: x+y, even_squ)\r\n",
        "print(total)\r\n",
        "\r\n"
      ],
      "execution_count": 79,
      "outputs": [
        {
          "output_type": "stream",
          "text": [
            "10.3\n",
            "10.3\n",
            "True\n",
            "False\n",
            "True\n",
            "True\n",
            "['__abs__', '__add__', '__and__', '__bool__', '__ceil__', '__class__', '__delattr__', '__dir__', '__divmod__', '__doc__', '__eq__', '__float__', '__floor__', '__floordiv__', '__format__', '__ge__', '__getattribute__', '__getnewargs__', '__gt__', '__hash__', '__index__', '__init__', '__init_subclass__', '__int__', '__invert__', '__le__', '__lshift__', '__lt__', '__mod__', '__mul__', '__ne__', '__neg__', '__new__', '__or__', '__pos__', '__pow__', '__radd__', '__rand__', '__rdivmod__', '__reduce__', '__reduce_ex__', '__repr__', '__rfloordiv__', '__rlshift__', '__rmod__', '__rmul__', '__ror__', '__round__', '__rpow__', '__rrshift__', '__rshift__', '__rsub__', '__rtruediv__', '__rxor__', '__setattr__', '__sizeof__', '__str__', '__sub__', '__subclasshook__', '__truediv__', '__trunc__', '__xor__', 'bit_length', 'conjugate', 'denominator', 'from_bytes', 'imag', 'numerator', 'real', 'to_bytes']\n",
            "a:  [0, 1, 2, 3, 4, 5, 6, 7, 8, 9]\n",
            "[0, 2, 4, 6, 8]\n",
            "[0, 4, 16, 36, 64]\n",
            "120\n"
          ],
          "name": "stdout"
        }
      ]
    },
    {
      "cell_type": "code",
      "metadata": {
        "id": "CFxGu6xmKLrO"
      },
      "source": [
        "!touch file.txt\r\n"
      ],
      "execution_count": 81,
      "outputs": []
    },
    {
      "cell_type": "code",
      "metadata": {
        "colab": {
          "base_uri": "https://localhost:8080/"
        },
        "id": "y01J97VQNDkP",
        "outputId": "8190aec1-d656-43ef-af21-0906f86b91c4"
      },
      "source": [
        "import requests\r\n",
        "\r\n",
        "a = requests.get(\"https://www.howtogeek.com\")\r\n",
        "print(a.status_code)\r\n",
        "# print(a.text)\r\n",
        "\r\n",
        "with open(\"file.txt\", \"w\") as f:\r\n",
        "  f.write(a.text)\r\n"
      ],
      "execution_count": 94,
      "outputs": [
        {
          "output_type": "stream",
          "text": [
            "200\n"
          ],
          "name": "stdout"
        }
      ]
    },
    {
      "cell_type": "code",
      "metadata": {
        "id": "5uGOEP3iNPiK"
      },
      "source": [
        "with open(\"file.txt\", \"r\") as f:\r\n",
        "  file_content = f.readlines() \r\n",
        "\r\n",
        "# print(file_content)\r\n",
        "\r\n",
        "text_str = \"\".join(file_content)\r\n"
      ],
      "execution_count": 97,
      "outputs": []
    },
    {
      "cell_type": "code",
      "metadata": {
        "colab": {
          "base_uri": "https://localhost:8080/"
        },
        "id": "5pFEoEzTPlwd",
        "outputId": "590b3280-37c0-4479-ffda-67274c6746bc"
      },
      "source": [
        "len(text_str)"
      ],
      "execution_count": 98,
      "outputs": [
        {
          "output_type": "execute_result",
          "data": {
            "text/plain": [
              "193227"
            ]
          },
          "metadata": {
            "tags": []
          },
          "execution_count": 98
        }
      ]
    },
    {
      "cell_type": "code",
      "metadata": {
        "colab": {
          "base_uri": "https://localhost:8080/"
        },
        "id": "_D8tuAAkQF8v",
        "outputId": "c98c1b2b-dd03-47f9-9fbd-4c65ab7abc80"
      },
      "source": [
        "count = 0\r\n",
        "for i in text_str:\r\n",
        "  count +=1\r\n",
        "\r\n",
        "print(count)"
      ],
      "execution_count": 99,
      "outputs": [
        {
          "output_type": "stream",
          "text": [
            "193227\n"
          ],
          "name": "stdout"
        }
      ]
    },
    {
      "cell_type": "code",
      "metadata": {
        "id": "qjiSAOiUQRUM"
      },
      "source": [
        ""
      ],
      "execution_count": null,
      "outputs": []
    }
  ]
}