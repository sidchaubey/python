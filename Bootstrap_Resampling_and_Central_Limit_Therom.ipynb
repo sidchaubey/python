{
  "nbformat": 4,
  "nbformat_minor": 0,
  "metadata": {
    "colab": {
      "name": "Bootstrap Resampling and Central Limit Therom",
      "provenance": [],
      "authorship_tag": "ABX9TyOW4ybmOwmKrcOIj9Ix1jEk",
      "include_colab_link": true
    },
    "kernelspec": {
      "name": "python3",
      "display_name": "Python 3"
    }
  },
  "cells": [
    {
      "cell_type": "markdown",
      "metadata": {
        "id": "view-in-github",
        "colab_type": "text"
      },
      "source": [
        "<a href=\"https://colab.research.google.com/github/sidchaubey/python/blob/master/Bootstrap_Resampling_and_Central_Limit_Therom.ipynb\" target=\"_parent\"><img src=\"https://colab.research.google.com/assets/colab-badge.svg\" alt=\"Open In Colab\"/></a>"
      ]
    },
    {
      "cell_type": "code",
      "metadata": {
        "id": "FmBDhWQup7IO",
        "colab_type": "code",
        "colab": {
          "base_uri": "https://localhost:8080/",
          "height": 72
        },
        "outputId": "a2915edc-c831-44bf-9aaf-975bfd5ccd40"
      },
      "source": [
        "import numpy as np\n",
        "import pandas as pd\n",
        "import matplotlib.pyplot as plt\n",
        "from sklearn.utils import resample\n",
        "from sklearn.metrics import accuracy_score\n",
        "import seaborn as sns\n",
        "\n"
      ],
      "execution_count": 29,
      "outputs": [
        {
          "output_type": "stream",
          "text": [
            "/usr/local/lib/python3.6/dist-packages/statsmodels/tools/_testing.py:19: FutureWarning: pandas.util.testing is deprecated. Use the functions in the public API at pandas.testing instead.\n",
            "  import pandas.util.testing as tm\n"
          ],
          "name": "stderr"
        }
      ]
    },
    {
      "cell_type": "code",
      "metadata": {
        "id": "fLprLfiBqNSU",
        "colab_type": "code",
        "colab": {
          "base_uri": "https://localhost:8080/",
          "height": 283
        },
        "outputId": "d881468c-b15e-455a-b377-54e0ed3827a2"
      },
      "source": [
        "x = np.random.randint(1,100,1000)\n",
        "#print(x)\n",
        "# Configure Bootstrap\n",
        "n_iters = 1000\n",
        "n_size = int(len(x))\n",
        "medians= list()\n",
        "for i in range(n_iters):\n",
        "  m = resample(x,n_samples=n_size)\n",
        "  med = np.median(m)\n",
        "  medians.append(med)\n",
        "# Plot score\n",
        "plt.hist(medians)\n",
        "plt.show()\n",
        "alpha = 0.2\n",
        "p = ((1-alpha)/2.0)*100\n",
        "lower = np.percentile(medians,p)\n",
        "\n",
        "p = ((1+alpha)/2.0)*100\n",
        "upper = np.percentile(medians,p)\n",
        "\n",
        "print(\"The ci for {} percent lies between {} and {}\".format(alpha*100,lower,upper))"
      ],
      "execution_count": 25,
      "outputs": [
        {
          "output_type": "display_data",
          "data": {
            "image/png": "[encoded data removed]",
            "text/plain": [
              "<Figure size 432x288 with 1 Axes>"
            ]
          },
          "metadata": {
            "tags": [],
            "needs_background": "light"
          }
        },
        {
          "output_type": "stream",
          "text": [
            "The ci for 20.0 percent lies between 52.0 and 52.0\n"
          ],
          "name": "stdout"
        }
      ]
    },
    {
      "cell_type": "code",
      "metadata": {
        "id": "attWCjS1rqbJ",
        "colab_type": "code",
        "colab": {
          "base_uri": "https://localhost:8080/",
          "height": 513
        },
        "outputId": "1ae68bd2-7dd0-4770-b13a-df803a74cd04"
      },
      "source": [
        "# Central Limit Theorem\n",
        "\n",
        "x = np.random.randint(1,1000,100)\n",
        "\n",
        "n_iters = 1000\n",
        "n_size = int(len(x))\n",
        "\n",
        "\n",
        "means = list()\n",
        "for i in range(n_iters):\n",
        "  s = resample(x,n_samples=n_size)\n",
        "  mean_ = np.mean(s)\n",
        "  means.append(mean_)\n",
        "\n",
        "plt.hist(means)# The graph looks like gaussian distribution\n",
        "plt.show()\n",
        "sns.distplot(means,color=(0.1,0.1,0.1))\n",
        "plt.show()"
      ],
      "execution_count": 32,
      "outputs": [
        {
          "output_type": "display_data",
          "data": {
            "image/png": "[encoded data removed]",
            "text/plain": [
              "<Figure size 432x288 with 1 Axes>"
            ]
          },
          "metadata": {
            "tags": [],
            "needs_background": "light"
          }
        },
        {
          "output_type": "display_data",
          "data": {
            "image/png": "[encoded data removed]",
            "text/plain": [
              "<Figure size 432x288 with 1 Axes>"
            ]
          },
          "metadata": {
            "tags": [],
            "needs_background": "light"
          }
        }
      ]
    },
    {
      "cell_type": "code",
      "metadata": {
        "id": "Xc9XZFZ2ybqD",
        "colab_type": "code",
        "colab": {}
      },
      "source": [
        ""
      ],
      "execution_count": 0,
      "outputs": []
    }
  ]
}